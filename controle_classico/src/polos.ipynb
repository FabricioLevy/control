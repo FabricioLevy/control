{
 "cells": [
  {
   "cell_type": "code",
   "execution_count": 32,
   "id": "b6bcff56-a4da-475c-a34d-79cab22d09c0",
   "metadata": {},
   "outputs": [
    {
     "data": {
      "application/vnd.jupyter.widget-view+json": {
       "model_id": "f8fe615cc300450fb93755e938820190",
       "version_major": 2,
       "version_minor": 0
      },
      "text/plain": [
       "interactive(children=(FloatSlider(value=-10.0, description='Real 1', max=-1.0, min=-50.0, step=1.0), FloatSlid…"
      ]
     },
     "metadata": {},
     "output_type": "display_data"
    },
    {
     "data": {
      "application/vnd.jupyter.widget-view+json": {
       "model_id": "42d9d2db34054b16a4c0234d88c04d85",
       "version_major": 2,
       "version_minor": 0
      },
      "text/plain": [
       "Output()"
      ]
     },
     "metadata": {},
     "output_type": "display_data"
    }
   ],
   "source": [
    "import numpy as np\n",
    "import control as ctrl\n",
    "import matplotlib.pyplot as plt\n",
    "from ipywidgets import interact, FloatSlider, interact_manual, Output\n",
    "\n",
    "# Importações necessárias e classe ControlFunctions\n",
    "from functions import ControlFunctions\n",
    "\n",
    "# Área de output para os gráficos\n",
    "output_plot = Output()\n",
    "\n",
    "def setup_system():\n",
    "    fx = ControlFunctions()\n",
    "\n",
    "    g = 9.8\n",
    "    M_vazio = 29000\n",
    "    L = 2.9\n",
    "    C = 17\n",
    "    H = 2\n",
    "    rho_fluido = 715\n",
    "    hf = 2 * 0.6\n",
    "    mf = rho_fluido * L * C * hf\n",
    "\n",
    "    m0 = mf - fx.massa_i(mf, 1, hf, L) - fx.massa_i(mf, 2, hf, L)\n",
    "    m1 = fx.massa_i(mf, 1, hf, L)\n",
    "    m2 = fx.massa_i(mf, 2, hf, L)\n",
    "    m3 = fx.massa_i(mf, 3, hf, L)\n",
    "\n",
    "    k1 = fx.calcular_ki(hf, L, g, mf, 1)\n",
    "    k2 = fx.calcular_ki(hf, L, g, mf, 2)\n",
    "    h0 = fx.calcular_hi(L, hf, 0)\n",
    "    h1 = fx.calcular_hi(L, hf, 1)\n",
    "    h2 = fx.calcular_hi(L, hf, 2)\n",
    "    h3 = fx.calcular_hi(L, hf, 3)\n",
    "\n",
    "    omega1 = np.sqrt(k1 / m1)\n",
    "    omega2 = np.sqrt(k2 / m2)\n",
    "    zeta = ((6 * 10**(-6)) / (np.sqrt(g) * L**(3/2)))**(1/2)\n",
    "    c1 = fx.calcular_ci(m1, omega1, zeta, 1)\n",
    "    c2 = fx.calcular_ci(m2, omega2, zeta, 1)\n",
    "\n",
    "    I0 = fx.momento_inercia(M_vazio, L, H)\n",
    "    If = I0 + -m0 * h0**2 + m1 * h1**2 + m2 * h2**2\n",
    "\n",
    "    A = np.array([[0, 0, 0, 1, 0, 0],\n",
    "                  [0, 0, 0, 0, 1, 0],\n",
    "                  [0, 0, 0, 0, 0, 1],\n",
    "                  [-k1 / m1, 0, g, -c1 / m1, 0, 0],\n",
    "                  [0, -k2 / m2, g, 0, -c2 / m2, 0],\n",
    "                  [g * m1 / If, g * m2 / If, -15000 * L**2 / (2 * If), 0, 0, -120 * L**2 / (2 * If)]])\n",
    "    B = np.array([[0], [0], [0], [0], [0], [1 / If]])\n",
    "    C = np.array([[0, 0, 1, 0, 0, 0]])\n",
    "    D = np.array([[0]])\n",
    "\n",
    "    return A, B, C, D\n",
    "\n",
    "def plot_response(real1, imag1, real2, imag2, real3, imag3):\n",
    "    A, B, C, D = setup_system()\n",
    "    poles = [\n",
    "        complex(real1, imag1), complex(real1, -imag1),\n",
    "        complex(real2, imag2), complex(real2, -imag2),\n",
    "        complex(real3, imag3), complex(real3, -imag3)\n",
    "    ]\n",
    "    K = ctrl.place(A, B, poles)\n",
    "    A_new = A - B.dot(K)\n",
    "    sys = ctrl.ss(A_new, B, C, D)\n",
    "\n",
    "    with output_plot:\n",
    "        output_plot.clear_output(wait=True)\n",
    "        plt.figure(figsize=(12, 6))\n",
    "        ctrl.root_locus(sys, plot=True)\n",
    "        plt.title('Root Locus for Poles: {}'.format(poles))\n",
    "        plt.xlabel('Real Axis')\n",
    "        plt.ylabel('Imaginary Axis')\n",
    "        plt.grid(True)\n",
    "        plt.show()\n",
    "\n",
    "        T, Y = ctrl.step_response(sys)\n",
    "        plt.figure(figsize=(12, 6))\n",
    "        plt.plot(T, Y)\n",
    "        plt.title('Step Response')\n",
    "        plt.xlabel('Time (seconds)')\n",
    "        plt.ylabel('Output')\n",
    "        plt.grid(True)\n",
    "        plt.show()\n",
    "\n",
    "interact_manual = interact.options(manual=True, manual_name=\"Generate Plots\")\n",
    "interact_manual(plot_response,\n",
    "                real1=FloatSlider(value=-10, min=-50, max=-1, step=1, description='Real 1'),\n",
    "                imag1=FloatSlider(value=10, min=0, max=50, step=1, description='Img 1'),\n",
    "                real2=FloatSlider(value=-20, min=-50, max=-1, step=1, description='Real 2'),\n",
    "                imag2=FloatSlider(value=20, min=0, max=50, step=1, description='Img 2'),\n",
    "                real3=FloatSlider(value=-30, min=-50, max=-1, step=1, description='Real 3'),\n",
    "                imag3=FloatSlider(value=30, min=0, max=50, step=1, description='Img 3'))\n",
    "\n",
    "display(output_plot)\n"
   ]
  },
  {
   "cell_type": "code",
   "execution_count": null,
   "id": "97202dfe-c0fd-4f8e-9f21-47a2b35d7bae",
   "metadata": {},
   "outputs": [],
   "source": []
  },
  {
   "cell_type": "code",
   "execution_count": null,
   "id": "fc3a6f09-9e57-41d4-b025-ffe323e48457",
   "metadata": {},
   "outputs": [],
   "source": []
  }
 ],
 "metadata": {
  "kernelspec": {
   "display_name": "Python 3 (ipykernel)",
   "language": "python",
   "name": "python3"
  },
  "language_info": {
   "codemirror_mode": {
    "name": "ipython",
    "version": 3
   },
   "file_extension": ".py",
   "mimetype": "text/x-python",
   "name": "python",
   "nbconvert_exporter": "python",
   "pygments_lexer": "ipython3",
   "version": "3.10.9"
  }
 },
 "nbformat": 4,
 "nbformat_minor": 5
}
