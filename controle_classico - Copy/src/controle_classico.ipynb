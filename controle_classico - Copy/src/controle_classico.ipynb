{
 "cells": [
  {
   "cell_type": "markdown",
   "id": "7b1bd386-49d5-4a96-a7c8-f9fcabea78c4",
   "metadata": {},
   "source": [
    "Root Locus"
   ]
  },
  {
   "cell_type": "code",
   "execution_count": 1,
   "id": "0ed62702-86d4-4545-8830-56c335e12218",
   "metadata": {},
   "outputs": [
    {
     "data": {
      "application/vnd.jupyter.widget-view+json": {
       "model_id": "1d11716c18bd477da363d8a2538b949c",
       "version_major": 2,
       "version_minor": 0
      },
      "text/plain": [
       "interactive(children=(FloatSlider(value=-4.0, description='Real 1', max=0.0, min=-50.0, step=0.5), FloatSlider…"
      ]
     },
     "metadata": {},
     "output_type": "display_data"
    },
    {
     "data": {
      "application/vnd.jupyter.widget-view+json": {
       "model_id": "05f6da562dda44e488f861ba4e227372",
       "version_major": 2,
       "version_minor": 0
      },
      "text/plain": [
       "Output()"
      ]
     },
     "metadata": {},
     "output_type": "display_data"
    }
   ],
   "source": [
    "import numpy as np\n",
    "import control as ctrl\n",
    "import matplotlib.pyplot as plt\n",
    "from ipywidgets import interact, FloatSlider, Output\n",
    "from IPython.display import display\n",
    "\n",
    "from functions import ControlFunctions\n",
    "\n",
    "output_plot = Output()\n",
    "\n",
    "def setup_system():\n",
    "    fx = ControlFunctions()\n",
    "\n",
    "    g = 9.8\n",
    "    M_vazio = 29000\n",
    "    L = 2.9\n",
    "    C = 17\n",
    "    H = 2\n",
    "    rho_fluido = 715\n",
    "    hf = 2 * 0.6\n",
    "    mf = rho_fluido * L * C * hf\n",
    "\n",
    "    m0 = mf - fx.massa_i(mf, 1, hf, L) - fx.massa_i(mf, 2, hf, L)\n",
    "    m1 = fx.massa_i(mf, 1, hf, L)\n",
    "    m2 = fx.massa_i(mf, 2, hf, L)\n",
    "    m3 = fx.massa_i(mf, 3, hf, L)\n",
    "\n",
    "    k1 = fx.calcular_ki(hf, L, g, mf, 1)\n",
    "    k2 = fx.calcular_ki(hf, L, g, mf, 2)\n",
    "    h0 = fx.calcular_hi(L, hf, 0)\n",
    "    h1 = fx.calcular_hi(L, hf, 1)\n",
    "    h2 = fx.calcular_hi(L, hf, 2)\n",
    "    h3 = fx.calcular_hi(L, hf, 3)\n",
    "\n",
    "    omega1 = np.sqrt(k1 / m1)\n",
    "    omega2 = np.sqrt(k2 / m2)\n",
    "    zeta = ((6 * 10**(-6)) / (np.sqrt(g) * L**(3/2)))**(1/2)\n",
    "    c1 = fx.calcular_ci(m1, omega1, zeta, 1)\n",
    "    c2 = fx.calcular_ci(m2, omega2, zeta, 1)\n",
    "\n",
    "    I0 = fx.momento_inercia(M_vazio, L, H)\n",
    "    If = I0 + -m0 * h0**2 + m1 * h1**2 + m2 * h2**2\n",
    "\n",
    "    k = 15000\n",
    "    cd = 120\n",
    "\n",
    "    A = np.array([[0, 0, 0, 1, 0, 0],\n",
    "                  [0, 0, 0, 0, 1, 0],\n",
    "                  [0, 0, 0, 0, 0, 1],\n",
    "                  [-k1/m1, 0, g, -c1/m1, 0, 0],\n",
    "                  [0, -k2/m2, g, 0, -c2/m2, 0],\n",
    "                  [g*m1/If, g*m2/If, -k*L**2/(2*If), 0, 0, -cd*L**2/(2*If)]])\n",
    "    B = np.array([[0], [0], [0], [0], [0], [1/If]])\n",
    "    C = np.array([[0, 0, 1, 0, 0, 0]])\n",
    "    D = np.array([[0]])\n",
    "\n",
    "\n",
    "    #################### Malha Fechada #############\n",
    "    velocidade_kmh = 80  # km/h\n",
    "    velocidade_ms = velocidade_kmh / 3.6  # m/s\n",
    "\n",
    "    raio = 300  # m\n",
    "\n",
    "    aceleracao_centripeta = (velocidade_ms ** 2) / raio\n",
    "\n",
    "    Mt = M_vazio + m0 + m1 + m2 + m3\n",
    "    # print(Mt)\n",
    "    # quit()\n",
    "    hcm_t = 1\n",
    "    hcm_0 = 1 + h0\n",
    "    hcm_1 = 1 + h1\n",
    "    hcm_2 = 1 + h2\n",
    "    hcm_3 = 1 + h3 ############# adicionar m3\n",
    "\n",
    "    Hcm = (hcm_t*M_vazio + hcm_0*m0 + hcm_1*m1 + hcm_2*m2 + hcm_3*m3)/Mt\n",
    "    print('Hcm', Hcm)\n",
    "    Fc = (Mt)*aceleracao_centripeta\n",
    "    print('Fc', Fc)\n",
    "    My = 2*Hcm*Fc\n",
    "    print('My', My)\n",
    "\n",
    "\n",
    "    return A, B, C, D, My\n",
    "\n",
    "def plot_response(real1, imag1, real2, imag2, real3, imag3):\n",
    "    A, B, C, D, My = setup_system()\n",
    "    poles = [\n",
    "        complex(real1, imag1), complex(real1, -imag1),\n",
    "        complex(real2, imag2), complex(real2, -imag2),\n",
    "        complex(real3, imag3), complex(real3, -imag3)\n",
    "    ]\n",
    "    K = ctrl.place(A, B, poles)\n",
    "    A_new = A - B.dot(K)\n",
    "    sys = ctrl.ss(A_new, B, C, D)\n",
    "\n",
    "    G = ctrl.ss2tf(sys) ################ nao sei o que estou fazendo\n",
    "\n",
    "    G_scaled = G * My\n",
    "    # t, y = ctrl.step_response(G_scaled)\n",
    "\n",
    "\n",
    "    with output_plot:\n",
    "        output_plot.clear_output(wait=True)\n",
    "\n",
    "        # T, Y = ctrl.step_response(sys)\n",
    "        T, Y = ctrl.step_response(G_scaled)\n",
    "        Y = Y*(180/np.pi)\n",
    "        plt.figure(figsize=(12, 6))\n",
    "        plt.plot(T, Y)\n",
    "        plt.title('Step Response - graus')\n",
    "        plt.xlabel('Time (seconds)')\n",
    "        plt.ylabel('Output')\n",
    "        plt.grid(True)\n",
    "        plt.show()\n",
    "\n",
    "        plt.figure(figsize=(12, 6))\n",
    "        ctrl.root_locus(sys, plot=True)\n",
    "        plt.title('Root Locus for Poles: {}'.format(poles))\n",
    "        plt.xlabel('Real Axis')\n",
    "        plt.ylabel('Imaginary Axis')\n",
    "        plt.grid(True)\n",
    "        plt.show()\n",
    "\n",
    "interact(plot_response,\n",
    "         real1=FloatSlider(value=-4, min=-50, max=0, step=0.5, description='Real 1'),\n",
    "         imag1=FloatSlider(value=20, min=-50, max=100, step=0.5, description='Img 1'),\n",
    "         real2=FloatSlider(value=-5, min=-50, max=0, step=0.5, description='Real 2'),\n",
    "         imag2=FloatSlider(value=22.5, min=-50, max=50, step=0.5, description='Img 2'),\n",
    "         real3=FloatSlider(value=-6, min=-50, max=0, step=0.5, description='Real 3'),\n",
    "         imag3=FloatSlider(value=24, min=-50, max=50, step=0.5, description='Img 3'))\n",
    "\n",
    "display(output_plot)\n"
   ]
  },
  {
   "cell_type": "markdown",
   "id": "d0e32a50-a1b5-44ea-8d4b-e41652530e8d",
   "metadata": {},
   "source": [
    "PID"
   ]
  },
  {
   "cell_type": "code",
   "execution_count": 2,
   "id": "65de5af1-d6cc-42e2-a7c7-6080b2be5da3",
   "metadata": {},
   "outputs": [
    {
     "ename": "NameError",
     "evalue": "name 'My' is not defined",
     "output_type": "error",
     "traceback": [
      "\u001b[1;31m---------------------------------------------------------------------------\u001b[0m",
      "\u001b[1;31mNameError\u001b[0m                                 Traceback (most recent call last)",
      "Cell \u001b[1;32mIn[2], line 1\u001b[0m\n\u001b[1;32m----> 1\u001b[0m \u001b[38;5;28mprint\u001b[39m(\u001b[43mMy\u001b[49m)\n",
      "\u001b[1;31mNameError\u001b[0m: name 'My' is not defined"
     ]
    }
   ],
   "source": [
    "print(My)"
   ]
  },
  {
   "cell_type": "code",
   "execution_count": null,
   "id": "d4d5edaa-68c5-45ad-af75-2e112de518ce",
   "metadata": {},
   "outputs": [],
   "source": []
  },
  {
   "cell_type": "code",
   "execution_count": null,
   "id": "8ed895db-fab4-408a-89e8-db9cf24de938",
   "metadata": {},
   "outputs": [],
   "source": []
  }
 ],
 "metadata": {
  "kernelspec": {
   "display_name": "Python 3 (ipykernel)",
   "language": "python",
   "name": "python3"
  },
  "language_info": {
   "codemirror_mode": {
    "name": "ipython",
    "version": 3
   },
   "file_extension": ".py",
   "mimetype": "text/x-python",
   "name": "python",
   "nbconvert_exporter": "python",
   "pygments_lexer": "ipython3",
   "version": "3.10.9"
  }
 },
 "nbformat": 4,
 "nbformat_minor": 5
}
