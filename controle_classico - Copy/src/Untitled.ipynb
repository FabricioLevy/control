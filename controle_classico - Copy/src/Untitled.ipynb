{
 "cells": [
  {
   "cell_type": "code",
   "execution_count": 2,
   "id": "6e9e5459-eee8-41bb-9abb-0f250d556324",
   "metadata": {},
   "outputs": [
    {
     "data": {
      "application/vnd.jupyter.widget-view+json": {
       "model_id": "dc024e051f074269ad39d929e4e13409",
       "version_major": 2,
       "version_minor": 0
      },
      "text/plain": [
       "interactive(children=(FloatSlider(value=-10.0, description='real1', max=0.0, min=-20.0, step=0.5), FloatSlider…"
      ]
     },
     "execution_count": 2,
     "metadata": {},
     "output_type": "execute_result"
    }
   ],
   "source": [
    "import numpy as np\n",
    "import matplotlib.pyplot as plt\n",
    "import control as ctrl\n",
    "from ipywidgets import interactive, FloatSlider\n",
    "\n",
    "def interactive_root_locus(real1=-10, imag1=10):\n",
    "    # Define as matrizes do sistema (Exemplo)\n",
    "    A = np.array([[0, 1], [-2, -3]])\n",
    "    B = np.array([[0], [1]])\n",
    "    C = np.array([[1, 0]])\n",
    "    D = np.array([[0]])\n",
    "\n",
    "    # Define um par de polos conjugados para controle\n",
    "    poles = [complex(real1, imag1), complex(real1, -imag1)]\n",
    "\n",
    "    # Calcula o controlador com os polos especificados\n",
    "    K = ctrl.place(A, B, poles)\n",
    "    A_new = A - B.dot(K)\n",
    "    sys = ctrl.ss(A_new, B, C, D)\n",
    "    \n",
    "    # Plota o lugar das raízes\n",
    "    plt.figure(figsize=(12, 6))\n",
    "    ctrl.root_locus(sys)\n",
    "    plt.title(f'Root Locus for Poles: {poles}')\n",
    "    plt.xlabel('Real')\n",
    "    plt.ylabel('Imaginary')\n",
    "    plt.grid(True)\n",
    "    plt.show()\n",
    "    \n",
    "    # Plota a resposta ao degrau\n",
    "    T, Y = ctrl.step_response(sys)\n",
    "    plt.figure(figsize=(12, 6))\n",
    "    plt.plot(T, Y)\n",
    "    plt.title('Step Response')\n",
    "    plt.xlabel('Time (seconds)')\n",
    "    plt.ylabel('Response')\n",
    "    plt.grid(True)\n",
    "    plt.show()\n",
    "\n",
    "# Widgets interativos para ajustar os polos\n",
    "interactive_plot = interactive(interactive_root_locus, \n",
    "                               real1=FloatSlider(value=-10, min=-20, max=0, step=0.5),\n",
    "                               imag1=FloatSlider(value=10, min=0, max=20, step=0.5))\n",
    "interactive_plot\n"
   ]
  },
  {
   "cell_type": "code",
   "execution_count": null,
   "id": "3c4cc99e-eec9-44c1-a35f-aeca36995d37",
   "metadata": {},
   "outputs": [],
   "source": []
  }
 ],
 "metadata": {
  "kernelspec": {
   "display_name": "Python 3 (ipykernel)",
   "language": "python",
   "name": "python3"
  },
  "language_info": {
   "codemirror_mode": {
    "name": "ipython",
    "version": 3
   },
   "file_extension": ".py",
   "mimetype": "text/x-python",
   "name": "python",
   "nbconvert_exporter": "python",
   "pygments_lexer": "ipython3",
   "version": "3.10.9"
  }
 },
 "nbformat": 4,
 "nbformat_minor": 5
}
